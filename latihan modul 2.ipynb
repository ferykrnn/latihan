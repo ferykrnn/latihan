{
 "cells": [
  {
   "cell_type": "code",
   "execution_count": 1,
   "metadata": {},
   "outputs": [
    {
     "name": "stdout",
     "output_type": "stream",
     "text": [
      "nilai 50.0 c ke f adalah: 122.0\n"
     ]
    }
   ],
   "source": [
    "celcius=float(input(\"masukkan nilai celcius:\"))\n",
    "\n",
    "fahrenheit=(9/5)*celcius+32\n",
    "print(f\"nilai {celcius} c ke f adalah: {fahrenheit}\")"
   ]
  },
  {
   "cell_type": "code",
   "execution_count": 2,
   "metadata": {},
   "outputs": [
    {
     "name": "stdout",
     "output_type": "stream",
     "text": [
      "nilai 50.0 r ke f adalah: 144.5\n"
     ]
    }
   ],
   "source": [
    "reamur=float(input(\"masukkan nilai reamur:\"))\n",
    "fahrenheit=(9/4)*reamur+32\n",
    "print(f\"nilai {reamur} r ke f adalah: {fahrenheit}\")"
   ]
  },
  {
   "cell_type": "code",
   "execution_count": 5,
   "metadata": {},
   "outputs": [
    {
     "name": "stdout",
     "output_type": "stream",
     "text": [
      "0.98\n"
     ]
    }
   ],
   "source": [
    "mata_uang={\n",
    "    'idr':1,\n",
    "    'usd':0.000071,\n",
    "    'sgd':0.000098,\n",
    "    'eur':0.000061,\n",
    "    'jpy':0.0079\n",
    "}\n",
    "uang=input(\"masukkan mata uang yang ingin dikonversi (idr,usd,sgd,eur,jpy):\")\n",
    "nilai=int(input(\"masukkan nilai uang:\"))\n",
    "print(mata_uang[uang]*nilai)\n"
   ]
  },
  {
   "cell_type": "code",
   "execution_count": 6,
   "metadata": {},
   "outputs": [
    {
     "name": "stdout",
     "output_type": "stream",
     "text": [
      "{'nama': 'mas safri', 'umur': 21}\n",
      "{'praktikan1': {'nama': 'dimas', 'umur': 20}, 'praktikan2': {'nama': 'deo', 'umur': 21}}\n",
      "praktikan all {'baris1': {'praktikan1': {'nama': 'dimas', 'umur': 20}, 'praktikan2': {'nama': 'deo', 'umur': 21}}, 'baris2': {'praktikan3': {'nama': 'alfi', 'umur': 21}, 'praktikan4': {'nama': 'katon', 'umur': 21}}}\n"
     ]
    }
   ],
   "source": [
    "classroom={\n",
    "    'aslab':{\n",
    "    'aslab1':{\n",
    "    'nama':'mas safri',\n",
    "    'umur':21\n",
    "    },\n",
    "    'aslab2':{\n",
    "    'nama':'mbak yuki',\n",
    "    'umur':21\n",
    "    },\n",
    "    'aslab3':{\n",
    "    'nama':'mas aji',\n",
    "    'umur':21\n",
    "    }\n",
    "    },\n",
    "    'praktikan':{\n",
    "    'baris1':{\n",
    "    'praktikan1':{\n",
    "    'nama':'dimas',\n",
    "    'umur':20\n",
    "    },\n",
    "    'praktikan2':{\n",
    "    'nama':'deo',\n",
    "    'umur':21\n",
    "    }\n",
    "    },\n",
    "    'baris2':{\n",
    "    'praktikan3':{\n",
    "    'nama':'alfi',\n",
    "    'umur':21\n",
    "    },\n",
    "    'praktikan4':{\n",
    "    'nama':'katon',\n",
    "    'umur':21\n",
    "    }\n",
    "    }\n",
    "    }\n",
    "}\n",
    "print(classroom['aslab']['aslab1'])\n",
    "print(classroom['praktikan']['baris1'])\n",
    "print(f\"praktikan all {classroom['praktikan']}\")"
   ]
  },
  {
   "cell_type": "code",
   "execution_count": 7,
   "metadata": {},
   "outputs": [
    {
     "name": "stdout",
     "output_type": "stream",
     "text": [
      "ikan\n",
      "bakar\n",
      "gosong\n",
      "item\n",
      "pait\n",
      "banget\n",
      "ia aa oogie atbne\n"
     ]
    }
   ],
   "source": [
    "string=\"ikan bakar gosong item pait banget\"\n",
    "print(string[0:4])\n",
    "print(string[5:10])\n",
    "print(string[11:17])\n",
    "print(string[18:22])\n",
    "print(string[23:27])\n",
    "print(string[28:34])\n",
    "print(string[0:34:2])"
   ]
  }
 ],
 "metadata": {
  "kernelspec": {
   "display_name": "Python 3",
   "language": "python",
   "name": "python3"
  },
  "language_info": {
   "codemirror_mode": {
    "name": "ipython",
    "version": 3
   },
   "file_extension": ".py",
   "mimetype": "text/x-python",
   "name": "python",
   "nbconvert_exporter": "python",
   "pygments_lexer": "ipython3",
   "version": "3.10.7"
  },
  "orig_nbformat": 4
 },
 "nbformat": 4,
 "nbformat_minor": 2
}
